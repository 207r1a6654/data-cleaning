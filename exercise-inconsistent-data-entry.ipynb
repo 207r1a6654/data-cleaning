{
 "cells": [
  {
   "cell_type": "markdown",
   "id": "bc70b7b6",
   "metadata": {
    "papermill": {
     "duration": 0.007358,
     "end_time": "2023-01-14T08:43:04.706992",
     "exception": false,
     "start_time": "2023-01-14T08:43:04.699634",
     "status": "completed"
    },
    "tags": []
   },
   "source": [
    "**This notebook is an exercise in the [Data Cleaning](https://www.kaggle.com/learn/data-cleaning) course.  You can reference the tutorial at [this link](https://www.kaggle.com/alexisbcook/inconsistent-data-entry).**\n",
    "\n",
    "---\n"
   ]
  },
  {
   "cell_type": "markdown",
   "id": "df45597a",
   "metadata": {
    "papermill": {
     "duration": 0.005412,
     "end_time": "2023-01-14T08:43:04.718534",
     "exception": false,
     "start_time": "2023-01-14T08:43:04.713122",
     "status": "completed"
    },
    "tags": []
   },
   "source": [
    "In this exercise, you'll apply what you learned in the **Inconsistent data entry** tutorial.\n",
    "\n",
    "# Setup\n",
    "\n",
    "The questions below will give you feedback on your work. Run the following cell to set up the feedback system."
   ]
  },
  {
   "cell_type": "code",
   "execution_count": 1,
   "id": "def61529",
   "metadata": {
    "execution": {
     "iopub.execute_input": "2023-01-14T08:43:04.732161Z",
     "iopub.status.busy": "2023-01-14T08:43:04.731388Z",
     "iopub.status.idle": "2023-01-14T08:43:04.937600Z",
     "shell.execute_reply": "2023-01-14T08:43:04.936307Z"
    },
    "papermill": {
     "duration": 0.217365,
     "end_time": "2023-01-14T08:43:04.941499",
     "exception": false,
     "start_time": "2023-01-14T08:43:04.724134",
     "status": "completed"
    },
    "tags": []
   },
   "outputs": [
    {
     "name": "stdout",
     "output_type": "stream",
     "text": [
      "Setup Complete\n"
     ]
    }
   ],
   "source": [
    "from learntools.core import binder\n",
    "binder.bind(globals())\n",
    "from learntools.data_cleaning.ex5 import *\n",
    "print(\"Setup Complete\")"
   ]
  },
  {
   "cell_type": "markdown",
   "id": "4f7ab6be",
   "metadata": {
    "papermill": {
     "duration": 0.00518,
     "end_time": "2023-01-14T08:43:04.952031",
     "exception": false,
     "start_time": "2023-01-14T08:43:04.946851",
     "status": "completed"
    },
    "tags": []
   },
   "source": [
    "# Get our environment set up\n",
    "\n",
    "The first thing we'll need to do is load in the libraries and dataset we'll be using.  We use the same dataset from the tutorial."
   ]
  },
  {
   "cell_type": "code",
   "execution_count": 2,
   "id": "df98e7de",
   "metadata": {
    "execution": {
     "iopub.execute_input": "2023-01-14T08:43:04.964922Z",
     "iopub.status.busy": "2023-01-14T08:43:04.964471Z",
     "iopub.status.idle": "2023-01-14T08:43:04.981380Z",
     "shell.execute_reply": "2023-01-14T08:43:04.980452Z"
    },
    "papermill": {
     "duration": 0.026509,
     "end_time": "2023-01-14T08:43:04.983943",
     "exception": false,
     "start_time": "2023-01-14T08:43:04.957434",
     "status": "completed"
    },
    "tags": []
   },
   "outputs": [],
   "source": [
    "# modules we'll use\n",
    "import pandas as pd\n",
    "import numpy as np\n",
    "\n",
    "# helpful modules\n",
    "import fuzzywuzzy\n",
    "from fuzzywuzzy import process\n",
    "import chardet\n",
    "\n",
    "# read in all our data\n",
    "professors = pd.read_csv(\"../input/pakistan-intellectual-capital/pakistan_intellectual_capital.csv\")\n",
    "\n",
    "# set seed for reproducibility\n",
    "np.random.seed(0)"
   ]
  },
  {
   "cell_type": "markdown",
   "id": "0a6353b6",
   "metadata": {
    "papermill": {
     "duration": 0.004903,
     "end_time": "2023-01-14T08:43:04.994276",
     "exception": false,
     "start_time": "2023-01-14T08:43:04.989373",
     "status": "completed"
    },
    "tags": []
   },
   "source": [
    "Next, we'll redo all of the work that we did in the tutorial."
   ]
  },
  {
   "cell_type": "code",
   "execution_count": 3,
   "id": "0d9bd50c",
   "metadata": {
    "execution": {
     "iopub.execute_input": "2023-01-14T08:43:05.006787Z",
     "iopub.status.busy": "2023-01-14T08:43:05.005807Z",
     "iopub.status.idle": "2023-01-14T08:43:05.021834Z",
     "shell.execute_reply": "2023-01-14T08:43:05.020477Z"
    },
    "papermill": {
     "duration": 0.025051,
     "end_time": "2023-01-14T08:43:05.024434",
     "exception": false,
     "start_time": "2023-01-14T08:43:04.999383",
     "status": "completed"
    },
    "tags": []
   },
   "outputs": [
    {
     "name": "stdout",
     "output_type": "stream",
     "text": [
      "All done!\n"
     ]
    }
   ],
   "source": [
    "# convert to lower case\n",
    "professors['Country'] = professors['Country'].str.lower()\n",
    "# remove trailing white spaces\n",
    "professors['Country'] = professors['Country'].str.strip()\n",
    "\n",
    "# get the top 10 closest matches to \"south korea\"\n",
    "countries = professors['Country'].unique()\n",
    "matches = fuzzywuzzy.process.extract(\"south korea\", countries, limit=10, scorer=fuzzywuzzy.fuzz.token_sort_ratio)\n",
    "\n",
    "def replace_matches_in_column(df, column, string_to_match, min_ratio = 47):\n",
    "    # get a list of unique strings\n",
    "    strings = df[column].unique()\n",
    "    \n",
    "    # get the top 10 closest matches to our input string\n",
    "    matches = fuzzywuzzy.process.extract(string_to_match, strings, \n",
    "                                         limit=10, scorer=fuzzywuzzy.fuzz.token_sort_ratio)\n",
    "\n",
    "    # only get matches with a ratio > 90\n",
    "    close_matches = [matches[0] for matches in matches if matches[1] >= min_ratio]\n",
    "\n",
    "    # get the rows of all the close matches in our dataframe\n",
    "    rows_with_matches = df[column].isin(close_matches)\n",
    "\n",
    "    # replace all rows with close matches with the input matches \n",
    "    df.loc[rows_with_matches, column] = string_to_match\n",
    "    \n",
    "    # let us know the function's done\n",
    "    print(\"All done!\")\n",
    "    \n",
    "replace_matches_in_column(df=professors, column='Country', string_to_match=\"south korea\")\n",
    "countries = professors['Country'].unique()"
   ]
  },
  {
   "cell_type": "markdown",
   "id": "015b6c3c",
   "metadata": {
    "papermill": {
     "duration": 0.00515,
     "end_time": "2023-01-14T08:43:05.035065",
     "exception": false,
     "start_time": "2023-01-14T08:43:05.029915",
     "status": "completed"
    },
    "tags": []
   },
   "source": [
    "# 1) Examine another column\n",
    "\n",
    "Write code below to take a look at all the unique values in the \"Graduated from\" column."
   ]
  },
  {
   "cell_type": "code",
   "execution_count": 4,
   "id": "4b43581f",
   "metadata": {
    "execution": {
     "iopub.execute_input": "2023-01-14T08:43:05.047406Z",
     "iopub.status.busy": "2023-01-14T08:43:05.046967Z",
     "iopub.status.idle": "2023-01-14T08:43:05.053633Z",
     "shell.execute_reply": "2023-01-14T08:43:05.052291Z"
    },
    "papermill": {
     "duration": 0.015435,
     "end_time": "2023-01-14T08:43:05.055844",
     "exception": false,
     "start_time": "2023-01-14T08:43:05.040409",
     "status": "completed"
    },
    "tags": []
   },
   "outputs": [],
   "source": [
    "# TODO: Your code here\n",
    "professors.head()\n",
    "unis = professors['Graduated from'].unique()\n",
    "unis.sort()\n",
    "#unis"
   ]
  },
  {
   "cell_type": "markdown",
   "id": "fdeba135",
   "metadata": {
    "papermill": {
     "duration": 0.006632,
     "end_time": "2023-01-14T08:43:05.067816",
     "exception": false,
     "start_time": "2023-01-14T08:43:05.061184",
     "status": "completed"
    },
    "tags": []
   },
   "source": [
    "Do you notice any inconsistencies in the data?  Can any of the inconsistencies in the data be fixed by removing white spaces at the beginning and end of cells?\n",
    "\n",
    "Once you have answered these questions, run the code cell below to get credit for your work."
   ]
  },
  {
   "cell_type": "code",
   "execution_count": 5,
   "id": "8ed12b80",
   "metadata": {
    "execution": {
     "iopub.execute_input": "2023-01-14T08:43:05.080676Z",
     "iopub.status.busy": "2023-01-14T08:43:05.079752Z",
     "iopub.status.idle": "2023-01-14T08:43:05.091817Z",
     "shell.execute_reply": "2023-01-14T08:43:05.090726Z"
    },
    "papermill": {
     "duration": 0.020945,
     "end_time": "2023-01-14T08:43:05.094064",
     "exception": false,
     "start_time": "2023-01-14T08:43:05.073119",
     "status": "completed"
    },
    "tags": []
   },
   "outputs": [
    {
     "data": {
      "application/javascript": [
       "parent.postMessage({\"jupyterEvent\": \"custom.exercise_interaction\", \"data\": {\"outcomeType\": 1, \"valueTowardsCompletion\": 0.3333333333333333, \"interactionType\": 1, \"questionType\": 4, \"questionId\": \"1_ExamineProvince\", \"learnToolsVersion\": \"0.3.4\", \"failureMessage\": \"\", \"exceptionClass\": \"\", \"trace\": \"\"}}, \"*\")"
      ],
      "text/plain": [
       "<IPython.core.display.Javascript object>"
      ]
     },
     "metadata": {},
     "output_type": "display_data"
    },
    {
     "data": {
      "text/markdown": [
       "<span style=\"color:#33cc33\">Correct:</span> \n",
       "\n",
       "There are inconsistencies that can be fixed by removing white spaces at the beginning and end of cells.  For instance, \"University of Central Florida\" and \" University of Central Florida\" both appear in the column."
      ],
      "text/plain": [
       "Correct: \n",
       "\n",
       "There are inconsistencies that can be fixed by removing white spaces at the beginning and end of cells.  For instance, \"University of Central Florida\" and \" University of Central Florida\" both appear in the column."
      ]
     },
     "metadata": {},
     "output_type": "display_data"
    }
   ],
   "source": [
    "# Check your answer (Run this code cell to receive credit!)\n",
    "q1.check()"
   ]
  },
  {
   "cell_type": "code",
   "execution_count": 6,
   "id": "49dbf472",
   "metadata": {
    "execution": {
     "iopub.execute_input": "2023-01-14T08:43:05.107733Z",
     "iopub.status.busy": "2023-01-14T08:43:05.107342Z",
     "iopub.status.idle": "2023-01-14T08:43:05.111884Z",
     "shell.execute_reply": "2023-01-14T08:43:05.110596Z"
    },
    "papermill": {
     "duration": 0.014326,
     "end_time": "2023-01-14T08:43:05.114187",
     "exception": false,
     "start_time": "2023-01-14T08:43:05.099861",
     "status": "completed"
    },
    "tags": []
   },
   "outputs": [],
   "source": [
    "# Line below will give you a hint\n",
    "#q1.hint()"
   ]
  },
  {
   "cell_type": "markdown",
   "id": "52d1b5ce",
   "metadata": {
    "papermill": {
     "duration": 0.005517,
     "end_time": "2023-01-14T08:43:05.125380",
     "exception": false,
     "start_time": "2023-01-14T08:43:05.119863",
     "status": "completed"
    },
    "tags": []
   },
   "source": [
    "# 2) Do some text pre-processing\n",
    "\n",
    "Convert every entry in the \"Graduated from\" column in the `professors` DataFrame to remove white spaces at the beginning and end of cells."
   ]
  },
  {
   "cell_type": "code",
   "execution_count": 7,
   "id": "903cd184",
   "metadata": {
    "execution": {
     "iopub.execute_input": "2023-01-14T08:43:05.138869Z",
     "iopub.status.busy": "2023-01-14T08:43:05.138393Z",
     "iopub.status.idle": "2023-01-14T08:43:05.154497Z",
     "shell.execute_reply": "2023-01-14T08:43:05.151252Z"
    },
    "papermill": {
     "duration": 0.026239,
     "end_time": "2023-01-14T08:43:05.157395",
     "exception": false,
     "start_time": "2023-01-14T08:43:05.131156",
     "status": "completed"
    },
    "tags": []
   },
   "outputs": [
    {
     "data": {
      "application/javascript": [
       "parent.postMessage({\"jupyterEvent\": \"custom.exercise_interaction\", \"data\": {\"outcomeType\": 1, \"valueTowardsCompletion\": 0.3333333333333333, \"interactionType\": 1, \"questionType\": 1, \"questionId\": \"2_TextProcessing\", \"learnToolsVersion\": \"0.3.4\", \"failureMessage\": \"\", \"exceptionClass\": \"\", \"trace\": \"\"}}, \"*\")"
      ],
      "text/plain": [
       "<IPython.core.display.Javascript object>"
      ]
     },
     "metadata": {},
     "output_type": "display_data"
    },
    {
     "data": {
      "text/markdown": [
       "<span style=\"color:#33cc33\">Correct</span>"
      ],
      "text/plain": [
       "Correct"
      ]
     },
     "metadata": {},
     "output_type": "display_data"
    }
   ],
   "source": [
    "#professors['Graduated from'] = professors['Graduated from'].str.strip()\n",
    "#professors['Graduated from'] = professors['Graduated from'].str.lower()\n",
    "# remove trailing white spaces\n",
    "professors['Graduated from'] = professors['Graduated from'].str.strip()\n",
    "q2.check()"
   ]
  },
  {
   "cell_type": "code",
   "execution_count": 8,
   "id": "2d90e071",
   "metadata": {
    "execution": {
     "iopub.execute_input": "2023-01-14T08:43:05.173955Z",
     "iopub.status.busy": "2023-01-14T08:43:05.172276Z",
     "iopub.status.idle": "2023-01-14T08:43:05.179456Z",
     "shell.execute_reply": "2023-01-14T08:43:05.177518Z"
    },
    "papermill": {
     "duration": 0.019558,
     "end_time": "2023-01-14T08:43:05.183224",
     "exception": false,
     "start_time": "2023-01-14T08:43:05.163666",
     "status": "completed"
    },
    "tags": []
   },
   "outputs": [],
   "source": [
    "# Lines below will give you a hint or solution code\n",
    "#q2.hint()\n",
    "#q2.solution()"
   ]
  },
  {
   "cell_type": "markdown",
   "id": "6d81f226",
   "metadata": {
    "papermill": {
     "duration": 0.006004,
     "end_time": "2023-01-14T08:43:05.196838",
     "exception": false,
     "start_time": "2023-01-14T08:43:05.190834",
     "status": "completed"
    },
    "tags": []
   },
   "source": [
    "# 3) Continue working with countries\n",
    "\n",
    "In the tutorial, we focused on cleaning up inconsistencies in the \"Country\" column.  Run the code cell below to view the list of unique values that we ended with."
   ]
  },
  {
   "cell_type": "code",
   "execution_count": 9,
   "id": "60766498",
   "metadata": {
    "execution": {
     "iopub.execute_input": "2023-01-14T08:43:05.214567Z",
     "iopub.status.busy": "2023-01-14T08:43:05.213547Z",
     "iopub.status.idle": "2023-01-14T08:43:05.223611Z",
     "shell.execute_reply": "2023-01-14T08:43:05.221713Z"
    },
    "papermill": {
     "duration": 0.024014,
     "end_time": "2023-01-14T08:43:05.227911",
     "exception": false,
     "start_time": "2023-01-14T08:43:05.203897",
     "status": "completed"
    },
    "tags": []
   },
   "outputs": [
    {
     "data": {
      "text/plain": [
       "array(['australia', 'austria', 'canada', 'china', 'finland', 'france',\n",
       "       'germany', 'greece', 'hongkong', 'ireland', 'italy', 'japan',\n",
       "       'macau', 'malaysia', 'mauritius', 'netherland', 'new zealand',\n",
       "       'norway', 'pakistan', 'portugal', 'russian federation',\n",
       "       'saudi arabia', 'scotland', 'singapore', 'south korea', 'spain',\n",
       "       'sweden', 'thailand', 'turkey', 'uk', 'urbana', 'usa', 'usofa'],\n",
       "      dtype=object)"
      ]
     },
     "execution_count": 9,
     "metadata": {},
     "output_type": "execute_result"
    }
   ],
   "source": [
    "# get all the unique values in the 'City' column\n",
    "countries = professors['Country'].unique()\n",
    "\n",
    "# sort them alphabetically and then take a closer look\n",
    "countries.sort()\n",
    "countries"
   ]
  },
  {
   "cell_type": "markdown",
   "id": "148a6e48",
   "metadata": {
    "papermill": {
     "duration": 0.005635,
     "end_time": "2023-01-14T08:43:05.241505",
     "exception": false,
     "start_time": "2023-01-14T08:43:05.235870",
     "status": "completed"
    },
    "tags": []
   },
   "source": [
    "Take another look at the \"Country\" column and see if there's any more data cleaning we need to do.\n",
    "\n",
    "It looks like 'usa' and 'usofa' should be the same country.  Correct the \"Country\" column in the dataframe to replace 'usofa' with 'usa'.\n",
    "\n",
    "**Use the most recent version of the DataFrame (with the whitespaces at the beginning and end of cells removed) from question 2.**"
   ]
  },
  {
   "cell_type": "code",
   "execution_count": 10,
   "id": "7afaa899",
   "metadata": {
    "execution": {
     "iopub.execute_input": "2023-01-14T08:43:05.255986Z",
     "iopub.status.busy": "2023-01-14T08:43:05.255225Z",
     "iopub.status.idle": "2023-01-14T08:43:05.269653Z",
     "shell.execute_reply": "2023-01-14T08:43:05.268744Z"
    },
    "papermill": {
     "duration": 0.024532,
     "end_time": "2023-01-14T08:43:05.272002",
     "exception": false,
     "start_time": "2023-01-14T08:43:05.247470",
     "status": "completed"
    },
    "tags": []
   },
   "outputs": [
    {
     "name": "stdout",
     "output_type": "stream",
     "text": [
      "All done!\n"
     ]
    },
    {
     "data": {
      "application/javascript": [
       "parent.postMessage({\"jupyterEvent\": \"custom.exercise_interaction\", \"data\": {\"outcomeType\": 1, \"valueTowardsCompletion\": 0.3333333333333333, \"interactionType\": 1, \"questionType\": 1, \"questionId\": \"3_WorkingWithCities\", \"learnToolsVersion\": \"0.3.4\", \"failureMessage\": \"\", \"exceptionClass\": \"\", \"trace\": \"\"}}, \"*\")"
      ],
      "text/plain": [
       "<IPython.core.display.Javascript object>"
      ]
     },
     "metadata": {},
     "output_type": "display_data"
    },
    {
     "data": {
      "text/markdown": [
       "<span style=\"color:#33cc33\">Correct</span>"
      ],
      "text/plain": [
       "Correct"
      ]
     },
     "metadata": {},
     "output_type": "display_data"
    }
   ],
   "source": [
    "# TODO: Your code here!\n",
    "matches = fuzzywuzzy.process.extract(\"usa\", countries, limit=10, scorer=fuzzywuzzy.fuzz.token_sort_ratio)\n",
    "replace_matches_in_column(df=professors, column='Country', string_to_match=\"usa\", min_ratio=70)\n",
    "# Check your answer\n",
    "q3.check()"
   ]
  },
  {
   "cell_type": "code",
   "execution_count": 11,
   "id": "86a5b6d4",
   "metadata": {
    "execution": {
     "iopub.execute_input": "2023-01-14T08:43:05.287566Z",
     "iopub.status.busy": "2023-01-14T08:43:05.286010Z",
     "iopub.status.idle": "2023-01-14T08:43:05.295002Z",
     "shell.execute_reply": "2023-01-14T08:43:05.294224Z"
    },
    "papermill": {
     "duration": 0.018973,
     "end_time": "2023-01-14T08:43:05.297284",
     "exception": false,
     "start_time": "2023-01-14T08:43:05.278311",
     "status": "completed"
    },
    "tags": []
   },
   "outputs": [
    {
     "data": {
      "application/javascript": [
       "parent.postMessage({\"jupyterEvent\": \"custom.exercise_interaction\", \"data\": {\"interactionType\": 2, \"questionType\": 1, \"questionId\": \"3_WorkingWithCities\", \"learnToolsVersion\": \"0.3.4\", \"valueTowardsCompletion\": 0.0, \"failureMessage\": \"\", \"exceptionClass\": \"\", \"trace\": \"\", \"outcomeType\": 4}}, \"*\")"
      ],
      "text/plain": [
       "<IPython.core.display.Javascript object>"
      ]
     },
     "metadata": {},
     "output_type": "display_data"
    },
    {
     "data": {
      "text/markdown": [
       "<span style=\"color:#3366cc\">Hint:</span> Use the `replace_matches_in_column()` function defined above."
      ],
      "text/plain": [
       "Hint: Use the `replace_matches_in_column()` function defined above."
      ]
     },
     "metadata": {},
     "output_type": "display_data"
    }
   ],
   "source": [
    "# Lines below will give you a hint or solution code\n",
    "q3.hint()\n",
    "#q3.solution()"
   ]
  },
  {
   "cell_type": "markdown",
   "id": "0f20166e",
   "metadata": {
    "papermill": {
     "duration": 0.006222,
     "end_time": "2023-01-14T08:43:05.310128",
     "exception": false,
     "start_time": "2023-01-14T08:43:05.303906",
     "status": "completed"
    },
    "tags": []
   },
   "source": [
    "# Congratulations!\n",
    "\n",
    "Congratulations for completing the **Data Cleaning** course on Kaggle Learn!\n",
    "\n",
    "To practice your new skills, you're encouraged to download and investigate some of [Kaggle's Datasets](https://www.kaggle.com/datasets)."
   ]
  },
  {
   "cell_type": "markdown",
   "id": "1cd419a5",
   "metadata": {
    "papermill": {
     "duration": 0.005998,
     "end_time": "2023-01-14T08:43:05.322734",
     "exception": false,
     "start_time": "2023-01-14T08:43:05.316736",
     "status": "completed"
    },
    "tags": []
   },
   "source": [
    "---\n",
    "\n",
    "\n",
    "\n",
    "\n",
    "*Have questions or comments? Visit the [course discussion forum](https://www.kaggle.com/learn/data-cleaning/discussion) to chat with other learners.*"
   ]
  }
 ],
 "metadata": {
  "kernelspec": {
   "display_name": "Python 3",
   "language": "python",
   "name": "python3"
  },
  "language_info": {
   "codemirror_mode": {
    "name": "ipython",
    "version": 3
   },
   "file_extension": ".py",
   "mimetype": "text/x-python",
   "name": "python",
   "nbconvert_exporter": "python",
   "pygments_lexer": "ipython3",
   "version": "3.7.12"
  },
  "papermill": {
   "default_parameters": {},
   "duration": 10.746525,
   "end_time": "2023-01-14T08:43:06.053462",
   "environment_variables": {},
   "exception": null,
   "input_path": "__notebook__.ipynb",
   "output_path": "__notebook__.ipynb",
   "parameters": {},
   "start_time": "2023-01-14T08:42:55.306937",
   "version": "2.3.4"
  }
 },
 "nbformat": 4,
 "nbformat_minor": 5
}
