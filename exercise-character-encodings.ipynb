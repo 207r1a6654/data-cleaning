{
 "cells": [
  {
   "cell_type": "markdown",
   "id": "f1831733",
   "metadata": {
    "papermill": {
     "duration": 0.005751,
     "end_time": "2023-01-14T07:39:15.794885",
     "exception": false,
     "start_time": "2023-01-14T07:39:15.789134",
     "status": "completed"
    },
    "tags": []
   },
   "source": [
    "**This notebook is an exercise in the [Data Cleaning](https://www.kaggle.com/learn/data-cleaning) course.  You can reference the tutorial at [this link](https://www.kaggle.com/alexisbcook/character-encodings).**\n",
    "\n",
    "---\n"
   ]
  },
  {
   "cell_type": "markdown",
   "id": "51e6968b",
   "metadata": {
    "papermill": {
     "duration": 0.004279,
     "end_time": "2023-01-14T07:39:15.804046",
     "exception": false,
     "start_time": "2023-01-14T07:39:15.799767",
     "status": "completed"
    },
    "tags": []
   },
   "source": [
    "In this exercise, you'll apply what you learned in the **Character encodings** tutorial.\n",
    "\n",
    "# Setup\n",
    "\n",
    "The questions below will give you feedback on your work. Run the following cell to set up the feedback system."
   ]
  },
  {
   "cell_type": "code",
   "execution_count": 1,
   "id": "838da199",
   "metadata": {
    "execution": {
     "iopub.execute_input": "2023-01-14T07:39:15.815838Z",
     "iopub.status.busy": "2023-01-14T07:39:15.815205Z",
     "iopub.status.idle": "2023-01-14T07:39:15.920726Z",
     "shell.execute_reply": "2023-01-14T07:39:15.919430Z"
    },
    "papermill": {
     "duration": 0.115117,
     "end_time": "2023-01-14T07:39:15.923805",
     "exception": false,
     "start_time": "2023-01-14T07:39:15.808688",
     "status": "completed"
    },
    "tags": []
   },
   "outputs": [
    {
     "name": "stdout",
     "output_type": "stream",
     "text": [
      "Setup Complete\n"
     ]
    }
   ],
   "source": [
    "from learntools.core import binder\n",
    "binder.bind(globals())\n",
    "from learntools.data_cleaning.ex4 import *\n",
    "print(\"Setup Complete\")"
   ]
  },
  {
   "cell_type": "markdown",
   "id": "e5476fdf",
   "metadata": {
    "papermill": {
     "duration": 0.004584,
     "end_time": "2023-01-14T07:39:15.933678",
     "exception": false,
     "start_time": "2023-01-14T07:39:15.929094",
     "status": "completed"
    },
    "tags": []
   },
   "source": [
    "# Get our environment set up\n",
    "\n",
    "The first thing we'll need to do is load in the libraries we'll be using."
   ]
  },
  {
   "cell_type": "code",
   "execution_count": 2,
   "id": "e29fa63c",
   "metadata": {
    "execution": {
     "iopub.execute_input": "2023-01-14T07:39:15.945484Z",
     "iopub.status.busy": "2023-01-14T07:39:15.945039Z",
     "iopub.status.idle": "2023-01-14T07:39:15.951288Z",
     "shell.execute_reply": "2023-01-14T07:39:15.949871Z"
    },
    "papermill": {
     "duration": 0.015374,
     "end_time": "2023-01-14T07:39:15.953903",
     "exception": false,
     "start_time": "2023-01-14T07:39:15.938529",
     "status": "completed"
    },
    "tags": []
   },
   "outputs": [],
   "source": [
    "# modules we'll use\n",
    "import pandas as pd\n",
    "import numpy as np\n",
    "\n",
    "# helpful character encoding module\n",
    "import chardet\n",
    "\n",
    "# set seed for reproducibility\n",
    "np.random.seed(0)"
   ]
  },
  {
   "cell_type": "markdown",
   "id": "c155cce5",
   "metadata": {
    "papermill": {
     "duration": 0.004577,
     "end_time": "2023-01-14T07:39:15.963788",
     "exception": false,
     "start_time": "2023-01-14T07:39:15.959211",
     "status": "completed"
    },
    "tags": []
   },
   "source": [
    "# 1) What are encodings?\n",
    "\n",
    "You're working with a dataset composed of bytes.  Run the code cell below to print a sample entry."
   ]
  },
  {
   "cell_type": "code",
   "execution_count": 3,
   "id": "f3c5c597",
   "metadata": {
    "execution": {
     "iopub.execute_input": "2023-01-14T07:39:15.975380Z",
     "iopub.status.busy": "2023-01-14T07:39:15.974974Z",
     "iopub.status.idle": "2023-01-14T07:39:15.982111Z",
     "shell.execute_reply": "2023-01-14T07:39:15.980796Z"
    },
    "papermill": {
     "duration": 0.016825,
     "end_time": "2023-01-14T07:39:15.985461",
     "exception": false,
     "start_time": "2023-01-14T07:39:15.968636",
     "status": "completed"
    },
    "tags": []
   },
   "outputs": [
    {
     "name": "stdout",
     "output_type": "stream",
     "text": [
      "b'\\xa7A\\xa6n'\n",
      "data type: <class 'bytes'>\n"
     ]
    }
   ],
   "source": [
    "sample_entry = b'\\xa7A\\xa6n'\n",
    "print(sample_entry)\n",
    "print('data type:', type(sample_entry))"
   ]
  },
  {
   "cell_type": "markdown",
   "id": "2417860d",
   "metadata": {
    "papermill": {
     "duration": 0.005389,
     "end_time": "2023-01-14T07:39:15.997173",
     "exception": false,
     "start_time": "2023-01-14T07:39:15.991784",
     "status": "completed"
    },
    "tags": []
   },
   "source": [
    "You notice that it doesn't use the standard UTF-8 encoding. \n",
    "\n",
    "Use the next code cell to create a variable `new_entry` that changes the encoding from `\"big5-tw\"` to `\"utf-8\"`.  `new_entry` should have the bytes datatype."
   ]
  },
  {
   "cell_type": "code",
   "execution_count": 4,
   "id": "bce19c82",
   "metadata": {
    "execution": {
     "iopub.execute_input": "2023-01-14T07:39:16.012170Z",
     "iopub.status.busy": "2023-01-14T07:39:16.011295Z",
     "iopub.status.idle": "2023-01-14T07:39:16.024904Z",
     "shell.execute_reply": "2023-01-14T07:39:16.023604Z"
    },
    "papermill": {
     "duration": 0.024039,
     "end_time": "2023-01-14T07:39:16.027771",
     "exception": false,
     "start_time": "2023-01-14T07:39:16.003732",
     "status": "completed"
    },
    "tags": []
   },
   "outputs": [
    {
     "data": {
      "application/javascript": [
       "parent.postMessage({\"jupyterEvent\": \"custom.exercise_interaction\", \"data\": {\"outcomeType\": 1, \"valueTowardsCompletion\": 0.3333333333333333, \"interactionType\": 1, \"questionType\": 1, \"questionId\": \"1_EncodingsIntro\", \"learnToolsVersion\": \"0.3.4\", \"failureMessage\": \"\", \"exceptionClass\": \"\", \"trace\": \"\"}}, \"*\")"
      ],
      "text/plain": [
       "<IPython.core.display.Javascript object>"
      ]
     },
     "metadata": {},
     "output_type": "display_data"
    },
    {
     "data": {
      "text/markdown": [
       "<span style=\"color:#33cc33\">Correct</span>"
      ],
      "text/plain": [
       "Correct"
      ]
     },
     "metadata": {},
     "output_type": "display_data"
    }
   ],
   "source": [
    "before = sample_entry.decode(\"big5-tw\")  #first decode from big5-tw\n",
    "new_entry = before.encode(\"utf-8\")  #then encode to utf-8\n",
    "# Check your answer\n",
    "q1.check()"
   ]
  },
  {
   "cell_type": "code",
   "execution_count": 5,
   "id": "080a63ee",
   "metadata": {
    "execution": {
     "iopub.execute_input": "2023-01-14T07:39:16.041070Z",
     "iopub.status.busy": "2023-01-14T07:39:16.040632Z",
     "iopub.status.idle": "2023-01-14T07:39:16.046036Z",
     "shell.execute_reply": "2023-01-14T07:39:16.044494Z"
    },
    "papermill": {
     "duration": 0.01479,
     "end_time": "2023-01-14T07:39:16.048596",
     "exception": false,
     "start_time": "2023-01-14T07:39:16.033806",
     "status": "completed"
    },
    "tags": []
   },
   "outputs": [],
   "source": [
    "# Lines below will give you a hint or solution code\n",
    "#q1.hint()\n",
    "#q1.solution()"
   ]
  },
  {
   "cell_type": "markdown",
   "id": "d4c45a8c",
   "metadata": {
    "papermill": {
     "duration": 0.006502,
     "end_time": "2023-01-14T07:39:16.060439",
     "exception": false,
     "start_time": "2023-01-14T07:39:16.053937",
     "status": "completed"
    },
    "tags": []
   },
   "source": [
    "# 2) Reading in files with encoding problems\n",
    "\n",
    "Use the code cell below to read in this file at path `\"../input/fatal-police-shootings-in-the-us/PoliceKillingsUS.csv\"`.  \n",
    "\n",
    "Figure out what the correct encoding should be and read in the file to a DataFrame `police_killings`."
   ]
  },
  {
   "cell_type": "code",
   "execution_count": 6,
   "id": "838c9139",
   "metadata": {
    "execution": {
     "iopub.execute_input": "2023-01-14T07:39:16.072990Z",
     "iopub.status.busy": "2023-01-14T07:39:16.072188Z",
     "iopub.status.idle": "2023-01-14T07:39:17.722309Z",
     "shell.execute_reply": "2023-01-14T07:39:17.721040Z"
    },
    "papermill": {
     "duration": 1.659307,
     "end_time": "2023-01-14T07:39:17.724985",
     "exception": false,
     "start_time": "2023-01-14T07:39:16.065678",
     "status": "completed"
    },
    "tags": []
   },
   "outputs": [
    {
     "name": "stdout",
     "output_type": "stream",
     "text": [
      "{'encoding': 'Windows-1252', 'confidence': 0.73, 'language': ''}\n"
     ]
    },
    {
     "data": {
      "application/javascript": [
       "parent.postMessage({\"jupyterEvent\": \"custom.exercise_interaction\", \"data\": {\"outcomeType\": 1, \"valueTowardsCompletion\": 0.3333333333333333, \"interactionType\": 1, \"questionType\": 1, \"questionId\": \"2_ReadIn\", \"learnToolsVersion\": \"0.3.4\", \"failureMessage\": \"\", \"exceptionClass\": \"\", \"trace\": \"\"}}, \"*\")"
      ],
      "text/plain": [
       "<IPython.core.display.Javascript object>"
      ]
     },
     "metadata": {},
     "output_type": "display_data"
    },
    {
     "data": {
      "text/markdown": [
       "<span style=\"color:#33cc33\">Correct</span>"
      ],
      "text/plain": [
       "Correct"
      ]
     },
     "metadata": {},
     "output_type": "display_data"
    }
   ],
   "source": [
    "# TODO: Load in the DataFrame correctly.\n",
    "# Check your answer\n",
    "with open(\"../input/fatal-police-shootings-in-the-us/PoliceKillingsUS.csv\", 'rb') as rawdata:\n",
    "    result = chardet.detect(rawdata.read(100000))\n",
    "print(result)  #the encoding must be windows-1252\n",
    "police_killings = pd.read_csv(\"../input/fatal-police-shootings-in-the-us/PoliceKillingsUS.csv\", encoding='Windows-1252')\n",
    "q2.check()"
   ]
  },
  {
   "cell_type": "markdown",
   "id": "b777d25d",
   "metadata": {
    "papermill": {
     "duration": 0.005159,
     "end_time": "2023-01-14T07:39:17.735770",
     "exception": false,
     "start_time": "2023-01-14T07:39:17.730611",
     "status": "completed"
    },
    "tags": []
   },
   "source": [
    "Feel free to use any additional code cells for supplemental work.  To get credit for finishing this question, you'll need to run `q2.check()` and get a result of **Correct**."
   ]
  },
  {
   "cell_type": "code",
   "execution_count": 7,
   "id": "d1f7c0e1",
   "metadata": {
    "execution": {
     "iopub.execute_input": "2023-01-14T07:39:17.748453Z",
     "iopub.status.busy": "2023-01-14T07:39:17.748003Z",
     "iopub.status.idle": "2023-01-14T07:39:17.754014Z",
     "shell.execute_reply": "2023-01-14T07:39:17.752761Z"
    },
    "papermill": {
     "duration": 0.01572,
     "end_time": "2023-01-14T07:39:17.756943",
     "exception": false,
     "start_time": "2023-01-14T07:39:17.741223",
     "status": "completed"
    },
    "tags": []
   },
   "outputs": [],
   "source": [
    "# (Optional) Use this code cell for any additional work."
   ]
  },
  {
   "cell_type": "code",
   "execution_count": 8,
   "id": "49692a5c",
   "metadata": {
    "execution": {
     "iopub.execute_input": "2023-01-14T07:39:17.770472Z",
     "iopub.status.busy": "2023-01-14T07:39:17.770036Z",
     "iopub.status.idle": "2023-01-14T07:39:17.775619Z",
     "shell.execute_reply": "2023-01-14T07:39:17.774354Z"
    },
    "papermill": {
     "duration": 0.015495,
     "end_time": "2023-01-14T07:39:17.778242",
     "exception": false,
     "start_time": "2023-01-14T07:39:17.762747",
     "status": "completed"
    },
    "tags": []
   },
   "outputs": [],
   "source": [
    "# Lines below will give you a hint or solution code\n",
    "#q2.hint()\n",
    "#q2.solution()"
   ]
  },
  {
   "cell_type": "markdown",
   "id": "991548bb",
   "metadata": {
    "papermill": {
     "duration": 0.00514,
     "end_time": "2023-01-14T07:39:17.789220",
     "exception": false,
     "start_time": "2023-01-14T07:39:17.784080",
     "status": "completed"
    },
    "tags": []
   },
   "source": [
    "# 3) Saving your files with UTF-8 encoding\n",
    "\n",
    "Save a version of the police killings dataset to CSV with UTF-8 encoding.  Your answer will be marked correct after saving this file.  \n",
    "\n",
    "Note: When using the `to_csv()` method, supply only the name of the file (e.g., `\"my_file.csv\"`).  This saves the file at the filepath `\"/kaggle/working/my_file.csv\"`."
   ]
  },
  {
   "cell_type": "code",
   "execution_count": 9,
   "id": "eb46627a",
   "metadata": {
    "execution": {
     "iopub.execute_input": "2023-01-14T07:39:17.804709Z",
     "iopub.status.busy": "2023-01-14T07:39:17.802888Z",
     "iopub.status.idle": "2023-01-14T07:39:17.842046Z",
     "shell.execute_reply": "2023-01-14T07:39:17.840762Z"
    },
    "papermill": {
     "duration": 0.050027,
     "end_time": "2023-01-14T07:39:17.844809",
     "exception": false,
     "start_time": "2023-01-14T07:39:17.794782",
     "status": "completed"
    },
    "tags": []
   },
   "outputs": [
    {
     "data": {
      "application/javascript": [
       "parent.postMessage({\"jupyterEvent\": \"custom.exercise_interaction\", \"data\": {\"outcomeType\": 1, \"valueTowardsCompletion\": 0.3333333333333333, \"interactionType\": 1, \"questionType\": 2, \"questionId\": \"3_SaveCSV\", \"learnToolsVersion\": \"0.3.4\", \"failureMessage\": \"\", \"exceptionClass\": \"\", \"trace\": \"\"}}, \"*\")"
      ],
      "text/plain": [
       "<IPython.core.display.Javascript object>"
      ]
     },
     "metadata": {},
     "output_type": "display_data"
    },
    {
     "data": {
      "text/markdown": [
       "<span style=\"color:#33cc33\">Correct</span>"
      ],
      "text/plain": [
       "Correct"
      ]
     },
     "metadata": {},
     "output_type": "display_data"
    }
   ],
   "source": [
    "# TODO: Save the police killings dataset to CSV\n",
    "police_killings.to_csv(\"police_killings_csv_file.csv\")\n",
    "\n",
    "# Check your answer\n",
    "q3.check()"
   ]
  },
  {
   "cell_type": "code",
   "execution_count": 10,
   "id": "720f5c61",
   "metadata": {
    "execution": {
     "iopub.execute_input": "2023-01-14T07:39:17.860082Z",
     "iopub.status.busy": "2023-01-14T07:39:17.859666Z",
     "iopub.status.idle": "2023-01-14T07:39:17.865273Z",
     "shell.execute_reply": "2023-01-14T07:39:17.863883Z"
    },
    "papermill": {
     "duration": 0.016342,
     "end_time": "2023-01-14T07:39:17.868007",
     "exception": false,
     "start_time": "2023-01-14T07:39:17.851665",
     "status": "completed"
    },
    "tags": []
   },
   "outputs": [],
   "source": [
    "# Lines below will give you a hint or solution code\n",
    "#q3.hint()\n",
    "#q3.solution()"
   ]
  },
  {
   "cell_type": "markdown",
   "id": "2887d865",
   "metadata": {
    "papermill": {
     "duration": 0.005585,
     "end_time": "2023-01-14T07:39:17.879551",
     "exception": false,
     "start_time": "2023-01-14T07:39:17.873966",
     "status": "completed"
    },
    "tags": []
   },
   "source": [
    "# (Optional) More practice\n",
    "\n",
    "Check out [this dataset of files in different character encodings](https://www.kaggle.com/rtatman/character-encoding-examples). Can you read in all the files with their original encodings and them save them out as UTF-8 files?\n",
    "\n",
    "If you have a file that's in UTF-8 but has just a couple of weird-looking characters in it, you can try out the [ftfy module](https://ftfy.readthedocs.io/en/latest/#) and see if it helps. \n",
    "\n",
    "# Keep going\n",
    "\n",
    "In the final lesson, learn how to [**clean up inconsistent text entries**](https://www.kaggle.com/alexisbcook/inconsistent-data-entry) in your dataset."
   ]
  },
  {
   "cell_type": "markdown",
   "id": "2bfb5330",
   "metadata": {
    "papermill": {
     "duration": 0.005747,
     "end_time": "2023-01-14T07:39:17.891295",
     "exception": false,
     "start_time": "2023-01-14T07:39:17.885548",
     "status": "completed"
    },
    "tags": []
   },
   "source": [
    "---\n",
    "\n",
    "\n",
    "\n",
    "\n",
    "*Have questions or comments? Visit the [course discussion forum](https://www.kaggle.com/learn/data-cleaning/discussion) to chat with other learners.*"
   ]
  }
 ],
 "metadata": {
  "kernelspec": {
   "display_name": "Python 3",
   "language": "python",
   "name": "python3"
  },
  "language_info": {
   "codemirror_mode": {
    "name": "ipython",
    "version": 3
   },
   "file_extension": ".py",
   "mimetype": "text/x-python",
   "name": "python",
   "nbconvert_exporter": "python",
   "pygments_lexer": "ipython3",
   "version": "3.7.12"
  },
  "papermill": {
   "default_parameters": {},
   "duration": 14.087194,
   "end_time": "2023-01-14T07:39:18.621490",
   "environment_variables": {},
   "exception": null,
   "input_path": "__notebook__.ipynb",
   "output_path": "__notebook__.ipynb",
   "parameters": {},
   "start_time": "2023-01-14T07:39:04.534296",
   "version": "2.3.4"
  }
 },
 "nbformat": 4,
 "nbformat_minor": 5
}
